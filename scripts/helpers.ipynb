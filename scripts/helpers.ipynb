{
 "cells": [
  {
   "cell_type": "code",
   "execution_count": null,
   "id": "061d3a41",
   "metadata": {},
   "outputs": [],
   "source": [
    "# Useful scripts\n"
   ]
  },
  {
   "cell_type": "code",
   "execution_count": null,
   "id": "2a7a360f",
   "metadata": {},
   "outputs": [],
   "source": [
    "# Create a Mneumonic code for the request if none provided,\n",
    "# this should be an option on the form to assist requests\n",
    "# if there is a speicfic requirement then they should request this \n",
    "# rather than provide a code\n",
    "\n",
    "# Should also check if the code exists already ..\n",
    "\n",
    "# Use letters from the name, ask Tiago to provide example from his notebook\n"
   ]
  },
  {
   "cell_type": "code",
   "execution_count": null,
   "id": "4e4113cc",
   "metadata": {},
   "outputs": [],
   "source": [
    "# Check the Function for the request, does it conform to a regex \n",
    "# ensuring it meets formatting rules and is populated\n",
    "# if not then the request should be rejected / labelled "
   ]
  },
  {
   "cell_type": "code",
   "execution_count": null,
   "id": "8e2dc15a",
   "metadata": {},
   "outputs": [],
   "source": [
    "# Provide a link in the Pull Request for a map link to a preferred\n",
    "# gazzeteer or other like google maps to assist checking \n",
    "# possibility to find co-ordinates from an API based on country and name\n",
    "# giving independant check\n"
   ]
  },
  {
   "cell_type": "code",
   "execution_count": null,
   "id": "a054031e",
   "metadata": {},
   "outputs": [],
   "source": [
    "# Validate basics, country check is it valid, sub division does it exist?"
   ]
  }
 ],
 "metadata": {
  "kernelspec": {
   "display_name": "Python 3 (ipykernel)",
   "language": "python",
   "name": "python3"
  },
  "language_info": {
   "codemirror_mode": {
    "name": "ipython",
    "version": 3
   },
   "file_extension": ".py",
   "mimetype": "text/x-python",
   "name": "python",
   "nbconvert_exporter": "python",
   "pygments_lexer": "ipython3",
   "version": "3.8.9"
  }
 },
 "nbformat": 4,
 "nbformat_minor": 5
}
